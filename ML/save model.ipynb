{
 "cells": [
  {
   "cell_type": "code",
   "execution_count": 19,
   "id": "f002fa33",
   "metadata": {},
   "outputs": [],
   "source": [
    "# CREATING MODEL\n",
    "from sklearn.model_selection import train_test_split\n",
    "import pandas as pd\n",
    "from sklearn.tree import DecisionTreeRegressor# for  making decision tree \n",
    "\n",
    "data = pd.read_csv(\"data.csv\")\n",
    "x = data[[\"Open\",\"High\",\"Low\",\"vol\"]]\n",
    "y = data[\"Close\"]\n",
    "X_train,X_test,y_train,y_test = train_test_split(x,y,test_size=0.05)#spliting data for model traning\n",
    "\n",
    "dt = DecisionTreeRegressor()#training dicision tree\n",
    "dt.fit(X_train,y_train)\n",
    "dtpre = dt.predict(X_test)"
   ]
  },
  {
   "cell_type": "code",
   "execution_count": 24,
   "id": "e64cb849",
   "metadata": {},
   "outputs": [
    {
     "data": {
      "text/plain": [
       "array([15692.15, 17925.25, 16605.25, 15850.2 , 17158.25, 16682.65,\n",
       "       15842.3 , 17784.35])"
      ]
     },
     "execution_count": 24,
     "metadata": {},
     "output_type": "execute_result"
    }
   ],
   "source": [
    "#   MODEL SAVING WORK\n",
    "#USING PICKLING\n",
    "\n",
    "import pickle\n",
    "\n",
    "pickle.dump(dt,open(\"Dicision tree save model\",\"wb\"))# to save data on file\n",
    "#   (model name ,open(\"file name in which data is to be store\",\"mode file type\")) \n",
    "#w=writee data on file  b=write data on file in binary form\n",
    "\n",
    "\n",
    "\n",
    "#to ues data or model \n",
    "pd = pickle.load(open(\"Dicision tree save model\",\"rb\"))\n",
    "\n",
    "pd.predict(X_test)#to used stoerd model traning"
   ]
  },
  {
   "cell_type": "code",
   "execution_count": 28,
   "id": "bb363fa6",
   "metadata": {},
   "outputs": [
    {
     "data": {
      "text/plain": [
       "array([15692.15, 17925.25, 16605.25, 15850.2 , 17158.25, 16682.65,\n",
       "       15842.3 , 17784.35])"
      ]
     },
     "execution_count": 28,
     "metadata": {},
     "output_type": "execute_result"
    }
   ],
   "source": [
    "import joblib\n",
    "\n",
    "joblib.dump(dt,open(\"Dicision tree save model\",\"wb\"))# to save data on file\n",
    "#   (model name ,open(\"file name in which data is to be store\",\"mode file type\")) \n",
    "#w=writee data on file  b=write data on file in binary form\n",
    "\n",
    "\n",
    "\n",
    "#to ues data or model \n",
    "pdjb = joblib.load(open(\"Dicision tree save model\",\"rb\"))\n",
    "\n",
    "pdjb.predict(X_test)#to used stoerd model traning\n",
    "\n",
    "#use when model have large array perameter"
   ]
  },
  {
   "cell_type": "code",
   "execution_count": null,
   "id": "1534e110",
   "metadata": {},
   "outputs": [],
   "source": []
  }
 ],
 "metadata": {
  "kernelspec": {
   "display_name": "Python 3 (ipykernel)",
   "language": "python",
   "name": "python3"
  },
  "language_info": {
   "codemirror_mode": {
    "name": "ipython",
    "version": 3
   },
   "file_extension": ".py",
   "mimetype": "text/x-python",
   "name": "python",
   "nbconvert_exporter": "python",
   "pygments_lexer": "ipython3",
   "version": "3.7.1"
  }
 },
 "nbformat": 4,
 "nbformat_minor": 5
}
