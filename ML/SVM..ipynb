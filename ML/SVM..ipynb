{
 "cells": [
  {
   "cell_type": "code",
   "execution_count": 157,
   "id": "1ac25bf7",
   "metadata": {},
   "outputs": [],
   "source": [
    "from sklearn.svm import SVR \n",
    "from sklearn.model_selection import train_test_split\n",
    "from sklearn.linear_model import LinearRegression,Lasso,Ridge#for using linear regrassion\n",
    "from sklearn.metrics import confusion_matrix , accuracy_score,mean_squared_error\n",
    "import pandas as pd\n",
    "import numpy as np\n",
    "import matplotlib.pyplot as plt"
   ]
  },
  {
   "cell_type": "code",
   "execution_count": 158,
   "id": "7e9ffb7b",
   "metadata": {},
   "outputs": [],
   "source": [
    "data = pd.read_csv(\"data.csv\")\n",
    "x = data[[\"Open\",\"High\",\"vol\",\"Low\"]]\n",
    "y = data[\"Close\"]"
   ]
  },
  {
   "cell_type": "code",
   "execution_count": 159,
   "id": "34d02c52",
   "metadata": {},
   "outputs": [],
   "source": [
    "X_train, X_test, y_train, y_test = train_test_split(x,y,test_size=0.02)"
   ]
  },
  {
   "cell_type": "code",
   "execution_count": 160,
   "id": "51104d72",
   "metadata": {},
   "outputs": [],
   "source": [
    "## Feature Scaling\"\"\"\n",
    " \n",
    "from sklearn.preprocessing import StandardScaler\n",
    "sc = StandardScaler()\n",
    "sc.fit(X_train)\n",
    "X_train = sc.transform(X_train)\n",
    "X_test = sc.transform(X_test)\n"
   ]
  },
  {
   "cell_type": "code",
   "execution_count": 165,
   "id": "c55af747",
   "metadata": {},
   "outputs": [
    {
     "name": "stdout",
     "output_type": "stream",
     "text": [
      "RMSE = \n",
      "rmse_rbf=  965.5456175582708    rmse_linear=  455.3564234518872    rmse_poly 991.6817074751168\n",
      "Score = \n",
      "svr_rbfs=  0.055567431865459094    svr_linears=  0.7899472867865762    svr_polys 0.003746257945193787\n"
     ]
    }
   ],
   "source": [
    "## Support Vector Regression - ML Model Training\"\"\"\n",
    " \n",
    "from sklearn.svm import SVR\n",
    " \n",
    "svr_rbf = SVR(kernel='rbf')\n",
    "svr_rbf.fit(X_train, y_train)\n",
    "svr_rbfs = svr_rbf.score(X_test, y_test)\n",
    "svr_rbf_pre = svr_rbf.predict(X_test)\n",
    "mse_rbf = mean_squared_error(y_test, svr_rbf_pre)\n",
    "rmse_rbf = np.sqrt(mse_rbf)\n",
    " \n",
    "svr_linear = SVR(kernel='linear')\n",
    "svr_linear.fit(X_train, y_train)\n",
    "svr_linears = svr_linear.score(X_test, y_test)\n",
    "svr_linear_pre = svr_linear.predict(X_test)\n",
    "mse_linear = mean_squared_error(y_test, svr_linear_pre)\n",
    "rmse_linear = np.sqrt(mse_linear)\n",
    " \n",
    "svr_poly = SVR(kernel='poly',degree=2,)\n",
    "svr_poly.fit(X_train, y_train)\n",
    "svr_polys = svr_poly.score(X_test, y_test)\n",
    "svr_poly_pre = svr_poly.predict(X_test)\n",
    "mse_poly = mean_squared_error(y_test, svr_poly_pre)\n",
    "rmse_poly = np.sqrt(mse_poly) \n",
    " \n",
    "print('RMSE = ')\n",
    "print(\"rmse_rbf= \",rmse_rbf,\"   rmse_linear= \",rmse_linear,\"   rmse_poly\",rmse_poly)\n",
    "\n",
    "print('Score = ')\n",
    "print(\"svr_rbfs= \",svr_rbfs,\"   svr_linears= \",svr_linears,\"   svr_polys\",svr_polys)\n"
   ]
  },
  {
   "cell_type": "code",
   "execution_count": 172,
   "id": "e0838576",
   "metadata": {},
   "outputs": [
    {
     "data": {
      "text/plain": [
       "<matplotlib.legend.Legend at 0x21609029be0>"
      ]
     },
     "execution_count": 172,
     "metadata": {},
     "output_type": "execute_result"
    },
    {
     "data": {
      "image/png": "[encoded data removed]",
      "text/plain": [
       "<Figure size 432x288 with 1 Axes>"
      ]
     },
     "metadata": {
      "needs_background": "light"
     },
     "output_type": "display_data"
    }
   ],
   "source": [
    "plt.plot([16600,16800,17000],y_test,'y*--',label = \"actual\")\n",
    "plt.plot([16600,16800,17000],svr_rbf_pre,'r*--',label = \"rbf\")\n",
    "plt.plot([16600,16800,17000],svr_linear_pre,'g*--',label = \"linear\")\n",
    "plt.plot([16600,16800,17000],svr_poly_pre,'b*--',label = \"poly\")\n",
    "plt.legend()"
   ]
  },
  {
   "cell_type": "code",
   "execution_count": 168,
   "id": "156b8f08",
   "metadata": {},
   "outputs": [],
   "source": [
    "#      VERY BAD MODEL"
   ]
  },
  {
   "cell_type": "code",
   "execution_count": 169,
   "id": "4c76b0bf",
   "metadata": {},
   "outputs": [
    {
     "data": {
      "text/plain": [
       "(array([17431.27781615, 17031.80088418, 16139.94960347]),\n",
       " array([16840.88972048, 16839.99712044, 16835.23070061]))"
      ]
     },
     "execution_count": 169,
     "metadata": {},
     "output_type": "execute_result"
    }
   ],
   "source": [
    "svr_linear_pre,svr_poly_pre"
   ]
  },
  {
   "cell_type": "code",
   "execution_count": null,
   "id": "4af945cf",
   "metadata": {},
   "outputs": [],
   "source": []
  }
 ],
 "metadata": {
  "kernelspec": {
   "display_name": "Python 3 (ipykernel)",
   "language": "python",
   "name": "python3"
  },
  "language_info": {
   "codemirror_mode": {
    "name": "ipython",
    "version": 3
   },
   "file_extension": ".py",
   "mimetype": "text/x-python",
   "name": "python",
   "nbconvert_exporter": "python",
   "pygments_lexer": "ipython3",
   "version": "3.7.1"
  }
 },
 "nbformat": 4,
 "nbformat_minor": 5
}
