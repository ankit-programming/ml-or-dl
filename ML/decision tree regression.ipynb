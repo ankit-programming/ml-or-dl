{
 "cells": [
  {
   "cell_type": "code",
   "execution_count": 101,
   "id": "860ea211",
   "metadata": {},
   "outputs": [],
   "source": [
    "from sklearn.model_selection import train_test_split\n",
    "import pandas as pd"
   ]
  },
  {
   "cell_type": "code",
   "execution_count": 102,
   "id": "3bf1b0ec",
   "metadata": {},
   "outputs": [],
   "source": [
    "data = pd.read_csv(\"data.csv\")"
   ]
  },
  {
   "cell_type": "code",
   "execution_count": 103,
   "id": "d42c4bae",
   "metadata": {},
   "outputs": [],
   "source": [
    "x = data[[\"Open\",\"High\",\"Low\",\"vol\"]]\n",
    "y = data[\"Close\"]"
   ]
  },
  {
   "cell_type": "code",
   "execution_count": 104,
   "id": "062f2df5",
   "metadata": {},
   "outputs": [],
   "source": [
    "X_train,X_test,y_train,y_test = train_test_split(x,y,test_size=0.05)#spliting data for model traning"
   ]
  },
  {
   "cell_type": "code",
   "execution_count": 105,
   "id": "4e431a45",
   "metadata": {},
   "outputs": [],
   "source": [
    "from sklearn.tree import DecisionTreeRegressor# for  making decision tree \n",
    "\n",
    "dt = DecisionTreeRegressor()#training dicision tree\n",
    "dt.fit(X_train,y_train)\n",
    "dtpre = dt.predict(X_test)"
   ]
  },
  {
   "cell_type": "code",
   "execution_count": 106,
   "id": "a23b249b",
   "metadata": {},
   "outputs": [
    {
     "data": {
      "text/plain": [
       "0.9706586500969543"
      ]
     },
     "execution_count": 106,
     "metadata": {},
     "output_type": "execute_result"
    }
   ],
   "source": [
    "dt.score(X_test,y_test)"
   ]
  },
  {
   "cell_type": "code",
   "execution_count": 107,
   "id": "2dec6892",
   "metadata": {},
   "outputs": [],
   "source": [
    "import numpy as np\n",
    "from sklearn.metrics import mean_squared_error\n",
    "\n",
    "dtmse = mean_squared_error(y_test,dtpre)\n",
    "dtrms = np.sqrt(dtmse)"
   ]
  },
  {
   "cell_type": "code",
   "execution_count": 192,
   "id": "33c9b6eb",
   "metadata": {},
   "outputs": [
    {
     "data": {
      "text/plain": [
       "112.31151710755194"
      ]
     },
     "execution_count": 192,
     "metadata": {},
     "output_type": "execute_result"
    }
   ],
   "source": [
    "dtrms"
   ]
  },
  {
   "cell_type": "code",
   "execution_count": 205,
   "id": "3825050b",
   "metadata": {},
   "outputs": [
    {
     "name": "stderr",
     "output_type": "stream",
     "text": [
      "c:\\python37\\lib\\site-packages\\sklearn\\ensemble\\_forest.py:400: FutureWarning: Criterion 'mse' was deprecated in v1.0 and will be removed in version 1.2. Use `criterion='squared_error'` which is equivalent.\n",
      "  FutureWarning,\n"
     ]
    }
   ],
   "source": [
    "#using random frorest regresion\n",
    "from sklearn.ensemble import RandomForestRegressor\n",
    "\n",
    "rfr = RandomForestRegressor(n_estimators=100,criterion=\"mse\")\n",
    "rfr.fit(X_train,y_train)\n",
    "rfrpre = rfr.predict(X_test)"
   ]
  },
  {
   "cell_type": "code",
   "execution_count": 206,
   "id": "ff896125",
   "metadata": {},
   "outputs": [
    {
     "data": {
      "text/plain": [
       "0.9856520672008848"
      ]
     },
     "execution_count": 206,
     "metadata": {},
     "output_type": "execute_result"
    }
   ],
   "source": [
    "rfr.score(X_test,y_test)"
   ]
  },
  {
   "cell_type": "code",
   "execution_count": 207,
   "id": "81808fb5",
   "metadata": {},
   "outputs": [],
   "source": [
    "rfrmse = mean_squared_error(y_test,rfrpre)\n",
    "rfrrms = np.sqrt(rfrmse)"
   ]
  },
  {
   "cell_type": "code",
   "execution_count": 208,
   "id": "f4c781ef",
   "metadata": {},
   "outputs": [
    {
     "data": {
      "text/plain": [
       "78.53783324057675"
      ]
     },
     "execution_count": 208,
     "metadata": {},
     "output_type": "execute_result"
    }
   ],
   "source": [
    "rfrrms"
   ]
  },
  {
   "cell_type": "code",
   "execution_count": 209,
   "id": "5c211c4a",
   "metadata": {},
   "outputs": [],
   "source": [
    "import matplotlib.pyplot as plt"
   ]
  },
  {
   "cell_type": "code",
   "execution_count": null,
   "id": "4516f016",
   "metadata": {},
   "outputs": [],
   "source": []
  },
  {
   "cell_type": "code",
   "execution_count": 210,
   "id": "753b79b9",
   "metadata": {},
   "outputs": [
    {
     "data": {
      "text/plain": [
       "(59     17498.25\n",
       " 101    16522.75\n",
       " 89     15842.30\n",
       " 32     17304.60\n",
       " 79     17102.55\n",
       " 53     17315.50\n",
       " 115    15638.80\n",
       " 137    16605.25\n",
       " Name: Close, dtype: float64,\n",
       " array([17445.9495, 16579.9455, 15807.256 , 17329.6665, 17191.389 ,\n",
       "        17218.687 , 15488.976 , 16563.1775]))"
      ]
     },
     "execution_count": 210,
     "metadata": {},
     "output_type": "execute_result"
    }
   ],
   "source": [
    "y_test,rfrpre"
   ]
  },
  {
   "cell_type": "code",
   "execution_count": null,
   "id": "3df54cfe",
   "metadata": {},
   "outputs": [],
   "source": []
  }
 ],
 "metadata": {
  "kernelspec": {
   "display_name": "Python 3 (ipykernel)",
   "language": "python",
   "name": "python3"
  },
  "language_info": {
   "codemirror_mode": {
    "name": "ipython",
    "version": 3
   },
   "file_extension": ".py",
   "mimetype": "text/x-python",
   "name": "python",
   "nbconvert_exporter": "python",
   "pygments_lexer": "ipython3",
   "version": "3.7.1"
  }
 },
 "nbformat": 4,
 "nbformat_minor": 5
}
