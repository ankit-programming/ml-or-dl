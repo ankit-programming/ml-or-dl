{
 "cells": [
  {
   "cell_type": "code",
   "execution_count": 255,
   "id": "acc51dd0",
   "metadata": {},
   "outputs": [],
   "source": [
    "from sklearn.linear_model import LinearRegression,Lasso,Ridge#for using linear regrassion\n",
    "from sklearn.metrics import confusion_matrix , accuracy_score,mean_squared_error\n",
    "import pandas as pd\n",
    "import numpy as np\n",
    "import matplotlib.pyplot as plt"
   ]
  },
  {
   "cell_type": "code",
   "execution_count": 256,
   "id": "5feb3368",
   "metadata": {},
   "outputs": [],
   "source": [
    "data = pd.read_csv(\"data 1.csv\")"
   ]
  },
  {
   "cell_type": "code",
   "execution_count": 257,
   "id": "811222f3",
   "metadata": {},
   "outputs": [],
   "source": [
    "#now testing with train test spilit method\n",
    "\n",
    "#ml me agar X,y hai to us ka matlab hai matix agar x,y hai to us ka matlab ahi vector\n",
    "from sklearn.model_selection import train_test_split\n",
    "\n",
    "X = data[[\"Open\",\"High\",\"vol\",\"Low\"]]#independent\n",
    "y = data[[\"Close\"]]#dependent\n",
    "\n",
    "#______________cross validation\n",
    "X_train, X_test, y_train, y_test = train_test_split(X, y, test_size=0.03,shuffle=False,random_state=10)#(X label data, y label data , % of testing data ,)\n",
    "#agar hame train ke liya % me data dena hai to train_size ka use kerange\n"
   ]
  },
  {
   "cell_type": "code",
   "execution_count": 277,
   "id": "98457b85",
   "metadata": {},
   "outputs": [],
   "source": [
    "#ridge and lasso regresion training and fitting\n",
    "model = LinearRegression()\n",
    "model.fit(X_train,y_train)\n",
    "model_score = model.score(X_test,y_test)\n",
    "pre = model.predict(X_test)\n",
    "\n",
    "model_lasso = Lasso(alpha = 5005)#by default alpha is 1 so ihave put alpha = 5005 as it give best result in it\n",
    "model_lasso.fit(X_train,y_train)\n",
    "model_lasso_pre = model_lasso.predict(X_test)\n",
    "model_lasso_score = model_lasso.score(X_test, y_test)\n",
    "\n",
    "model_ridge = Ridge(alpha = 400000)#by default alpha is 1 so ihave put alpha = 400000 as it give best result in it\n",
    "model_ridge.fit(X_train,y_train)\n",
    "model_ridge_pre = model_ridge.predict(X_test)\n",
    "model_ridge_score = model_ridge.score(X_test, y_test)"
   ]
  },
  {
   "cell_type": "code",
   "execution_count": 278,
   "id": "8e73bc8d",
   "metadata": {},
   "outputs": [
    {
     "data": {
      "text/plain": [
       "(array([[16609.17425429],\n",
       "        [16908.03874263],\n",
       "        [17113.50252866],\n",
       "        [17276.45808615],\n",
       "        [17309.2593618 ],\n",
       "        [17306.45848028],\n",
       "        [17252.06008905]]),\n",
       "         Close\n",
       " 225  16641.80\n",
       " 226  16929.60\n",
       " 227  17158.25\n",
       " 228  17340.05\n",
       " 229  17345.45\n",
       " 230  17388.15\n",
       " 231  17382.00)"
      ]
     },
     "execution_count": 278,
     "metadata": {},
     "output_type": "execute_result"
    }
   ],
   "source": [
    "#    now cheking with poly nomiyal linera regression\n",
    "from sklearn.linear_model import LinearRegression\n",
    "from sklearn.preprocessing import PolynomialFeatures\n",
    "\n",
    " \n",
    "poly_reg = PolynomialFeatures(degree=1)\n",
    "poly_reg.fit(X_train)\n",
    "X_train_poly = poly_reg.transform(X_train)\n",
    "X_test_poly = poly_reg.transform(X_test)\n",
    "\n",
    "lr = LinearRegression() \n",
    "lr.fit(X_train_poly, y_train) \n",
    "lr.score(X_test_poly, y_test,)\n",
    "prepl = lr.predict(X_test_poly)\n",
    "prepl,y_test"
   ]
  },
  {
   "cell_type": "code",
   "execution_count": 279,
   "id": "a2b5232b",
   "metadata": {},
   "outputs": [
    {
     "name": "stdout",
     "output_type": "stream",
     "text": [
      "mse\n",
      "mselr=4634.74885018951  msels=4595.516215358072   mserg=4280.108302698535\n",
      "  msepr=4634.74885018951\n",
      "rmse\n",
      "rmslr=68.07898977914402  rmsls=68.07898977914402   rmsrg=68.07898977914402  rmsepr=68.07898977914402\n",
      "\n",
      "\n",
      "\n",
      "scores are:-alpha=my \n",
      " 0.9342364180120367 ===Lasso\n",
      " 0.9387500250045476 ===ridge\n",
      " 0.9336749841107225 ==Lr\n",
      "\n",
      "this are the max result we can made with this module\n"
     ]
    }
   ],
   "source": [
    "#rms jada error = under fit   0 error = over fit\n",
    "\n",
    "mselr = mean_squared_error(y_test,pre)\n",
    "rmslr = np.sqrt(mse)\n",
    "\n",
    "msels = mean_squared_error(y_test,model_lasso_pre)\n",
    "rmsls = np.sqrt(mse)\n",
    "\n",
    "mserg = mean_squared_error(y_test,model_ridge_pre)\n",
    "rmsrg = np.sqrt(mse)\n",
    "\n",
    "msepr = mean_squared_error(y_test, pre)\n",
    "rmsepr = np.sqrt(mse)\n",
    "\n",
    "\n",
    "print(f\"mse\\nmselr={mselr}  msels={msels}   mserg={mserg}\\n  msepr={msepr}\")\n",
    "print(f\"rmse\\nrmslr={rmslr}  rmsls={rmsls}   rmsrg={rmsrg}  rmsepr={rmsepr}\")\n",
    "print(\"\\n\\n\")\n",
    "print(\"scores are:-alpha=my \\n\",model_lasso_score,\"===Lasso\\n\",model_ridge_score,\"===ridge\\n\",model_score,\"==Lr\\n\")\n",
    "print(\"this are the max result we can made with this module\")"
   ]
  },
  {
   "cell_type": "code",
   "execution_count": 280,
   "id": "fdf9cef2",
   "metadata": {},
   "outputs": [
    {
     "data": {
      "text/plain": [
       "<matplotlib.legend.Legend at 0x276ec05bc88>"
      ]
     },
     "execution_count": 280,
     "metadata": {},
     "output_type": "execute_result"
    },
    {
     "data": {
      "image/png": "[encoded data removed]",
      "text/plain": [
       "<Figure size 432x288 with 1 Axes>"
      ]
     },
     "metadata": {
      "needs_background": "light"
     },
     "output_type": "display_data"
    }
   ],
   "source": [
    "plt.plot([16600,16800,17000,17200,17400,17500,17600],y_test,label = \"actual\",color = \"k\")\n",
    "plt.plot([16600,16800,17000,17200,17400,17500,17600],pre,color = \"g\",label = \"LR\")\n",
    "plt.plot([16600,16800,17000,17200,17400,17500,17600],model_lasso_pre,label = \"lasso\",color = \"r\")\n",
    "plt.plot([16600,16800,17000,17200,17400,17500,17600],model_ridge_pre,color = \"b\",label = \"ridge\")\n",
    "plt.plot([16600,16800,17000,17200,17400,17500,17600],prepl,color = \"pink\",label = \"pr\")\n",
    "plt.legend()"
   ]
  },
  {
   "cell_type": "code",
   "execution_count": null,
   "id": "c39078c6",
   "metadata": {},
   "outputs": [],
   "source": []
  }
 ],
 "metadata": {
  "kernelspec": {
   "display_name": "Python 3 (ipykernel)",
   "language": "python",
   "name": "python3"
  },
  "language_info": {
   "codemirror_mode": {
    "name": "ipython",
    "version": 3
   },
   "file_extension": ".py",
   "mimetype": "text/x-python",
   "name": "python",
   "nbconvert_exporter": "python",
   "pygments_lexer": "ipython3",
   "version": "3.7.1"
  }
 },
 "nbformat": 4,
 "nbformat_minor": 5
}
