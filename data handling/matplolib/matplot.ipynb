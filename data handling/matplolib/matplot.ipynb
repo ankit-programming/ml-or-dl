{
 "cells": [
  {
   "cell_type": "code",
   "execution_count": 1,
   "id": "28c87337",
   "metadata": {},
   "outputs": [],
   "source": [
    "import matplotlib.pyplot as plt\n",
    "import numpy as np"
   ]
  },
  {
   "cell_type": "code",
   "execution_count": 2,
   "id": "d9f94739",
   "metadata": {},
   "outputs": [],
   "source": [
    "#some datas for x ,  y\n",
    "x = [1,2,3,1.25,2.75,1]#x cordiantes for graph\n",
    "y = [1,2,1,1.7,1.7,1]#y cpordinates for graph\n",
    "\n",
    "student_agex = np.random.randint(18,45,100)\n",
    "student_agey = np.random.randint(15,40,100)#to make random num as data"
   ]
  },
  {
   "cell_type": "code",
   "execution_count": 3,
   "id": "44d44b79",
   "metadata": {},
   "outputs": [],
   "source": [
    "#line chart\n",
    "#plt.plot(x,y)#ploting cordinates on graph\n",
    "\n",
    "#some functions\n",
    "\n",
    "#plt.xlabel(\"x cordinates\")#to show massesge on x cordinate\n",
    "#plt.ylabel(\"y cordinates\")#to show masessge on y cordinate\n",
    "#plt.title(\"prac\",fontsize=4)#chart ka nam rakhne ke liye plt.title ka use hota hai\n",
    "\n",
    "#plt.plot(x,y,color=\"y\")#agar hame line me color kerna hai to ham color function ka use ker sakte hai\n",
    "\n",
    "#plt.plot(x,y,color=\"y\",marker=\"*\")#agar hame cordinates per kuch nisan lagana ho to ham marker function ka use ker sakte hai\n",
    "#agar hame mark ka size change kerna ho to hame markersize=\"size in number\" function ka use ker sakte hai \n",
    "#pure jankare ke liye documantation dekhe es me bahut sare sumbols hote hai"
   ]
  },
  {
   "cell_type": "code",
   "execution_count": 4,
   "id": "cf092057",
   "metadata": {},
   "outputs": [],
   "source": [
    "#plt.plot(x,y,color=\"y\",linestyle=\"--\")#agar hame line ka desgine badalna hai to ham linestyle function ka use ker sakte hai"
   ]
  },
  {
   "cell_type": "code",
   "execution_count": 5,
   "id": "aa0e6664",
   "metadata": {},
   "outputs": [],
   "source": [
    "#plt.plot(x,y,color=\"y\",linestyle=\"--\",linewidth = 4)#ham line width ke madad se line ka size bada gatha sakte hai\n",
    "\n",
    "#NOTE:- agar hame color,marker,line style parameter ek sath use kerna ho to \"color marker linestyle\" me likh sakte hai\n",
    "#plt.plot(x,y,\"y*--\")#ex\n",
    "\n",
    "#plt.legend(\"a\",loc=4)#agar hame line ko nam dena ho to ya ham plot function ke ander label=\"\" ka estmal be ker sakte hai"
   ]
  },
  {
   "cell_type": "code",
   "execution_count": 6,
   "id": "cc228af0",
   "metadata": {},
   "outputs": [],
   "source": [
    "#              agar hame graph ka bg chang kerna hai to\n",
    "\n",
    "#from matplotlib import style\n",
    "#style.use(\"ggplot\")#to change the bg of chart\n",
    "#plt.figure(figsize=(160,18))#to cahnge size of graph\n",
    "\n",
    "#mor function \n",
    "#plt.grid(color=\"r\",linestyle=\"-\",linewidth=2)#mor function for graph bg \n",
    "#tip== color-->\"g,r,b,m,k\"etc     linestyle--->\"-,--,i,-.\"etc\n",
    "#plt.plot(x,y,\"b*-.\")#ex\n"
   ]
  },
  {
   "cell_type": "code",
   "execution_count": 7,
   "id": "c0d2be0c",
   "metadata": {},
   "outputs": [],
   "source": [
    "#*******HISTOGRAM\n",
    "#plt.hist([15,25,35,45])#simpel way to make histogram. es me hame sirf ek he perameter dena hai x simpel hist bana ke liye\n",
    "#plt.hist([x,y])#to make multepal bar at a time\n",
    "\n",
    "#______perameter______\n",
    "#plt.hist(x,bins=40)#bins is used for dfining y cordinate\n",
    "#plt.hist(x,[1,2,3,4])#ham x,y cordinate be de sakte hai ek sath  \n",
    "#plt.hist(x,[1,2,3,4],rwidth=0.90)#to give spae betwen bars use rwidth b/w 0-1\n",
    "#plt.hist(x,[1,2,3,4],rwidth=0.99,histtype=\"step\")#hist graph ka desgine badalne ke liye ham histtype ka use ker sakte hai histtype=[\"bar\",\"barstacked\",\"step\",\"stepfilled\"]\n",
    "#plt.hist(x,orientation=\"horizontal\")#hist kediraction badalne ke liye orentation =[\"vertical\".\"horizonatal\"]\n",
    "#plt.hist(x,color=\"black\")#to change color of bar\n",
    "#plt.hist([x,y],color = [\"b\",\"y\"])#to give miltipel color in bar use [] but you shoould have multepal bar too\n"
   ]
  },
  {
   "cell_type": "code",
   "execution_count": 8,
   "id": "b249b5d9",
   "metadata": {},
   "outputs": [],
   "source": [
    "#*********BAR\n",
    "#plt.bar(x,y)#to make simpel bar graph give x,y both\n",
    "\n",
    "#___perameters__\n",
    "#plt.bar(x,y,width = 0.08)#to  slect width of bar use width 0-1\n",
    "#plt.bar(x,y,align=\"edge\")#to align yane left right kerne ho to cordinates\n",
    "#plt.bar(x,y,color=\"y\")#to change color of bar\n",
    "#plt.bar(x,y,color=\"y\",edgecolor=\"b\")#to color edge of bar\n",
    "#plt.bar(x,y,linewidth=5,color=\"black\",edgecolor=\"cyan\")#to chane width of bar edge\n",
    "#plt.bar(x,y,color=\"cyan\",edgecolor=\"black\",alpha=0.40)#ham alpha ke madad se color ko apne hesab se dark fade ker sakte hai 0-1 ke bich me dono edgecolor or color function ke liye\n",
    "#plt.bar(x,y,edgecolor=\"blue\",linewidth=2,linestyle=\"-.\")#agar hame bar ke edge ka desgine cahnge kerna ho to\n",
    "\n",
    "#plt.bar(x,y,label=\"xxx\")#to show name of bar\n",
    "#plt.legend()#ye line likhne jarure hai label show kerne ke liye\n",
    "\n",
    "#plt.bar(x,y,visible=\"True\")#gar hame bar ko chipana ho to visible ka use ker sakte hai\n",
    "#to ombine two or more bar use plt.xticks function"
   ]
  },
  {
   "cell_type": "code",
   "execution_count": 9,
   "id": "e7bd7ddc",
   "metadata": {},
   "outputs": [],
   "source": [
    "#         SCATTER PLOT\n",
    "#plt.scatter(x,y)#ye cordiantes pe he hota hai\n",
    "#_____Pareameters_____\n",
    "\n",
    "#plt.scatter(x,y,marker=\"*\")#agar hame alag sumbol se cordinatres ko reoresent kerna hai to----->>  o,+,,,-,<,>,^,.\n",
    "#plt.scatter(x,y,color=\"blue\")#color ke liye\n",
    "#plt.scatter(x,y,marker=\"<\",s=100)#jo sumbol use ker raahe kai us ka size \"s\" use kerna hai size define kerne ke liye\n",
    "#plt.scatter(x,y,color=\"cyan\",alpha=1)#color ko dark ya fade kerne ke liye  0-1\n",
    "#plt.scatter(x,y,linewidth=2,edgecolor=\"black\")#scatter ke edge ka size\n"
   ]
  },
  {
   "cell_type": "code",
   "execution_count": 10,
   "id": "ee156d9f",
   "metadata": {
    "scrolled": true
   },
   "outputs": [],
   "source": [
    "#        PIE CHART\n",
    "#plt.pie([1,2,3])#make simpel pie chart\n",
    "n = [\"py\",\"ml\",\"AI\",\"Ds\"]\n",
    "class_student = [45,15,35,30]\n",
    "#plt.pie(class_student)\n",
    "#plt.pie(class_student,labels=n)#to give name to color\n",
    "#_____perameter___\n",
    "#plt.pie(class_student,labels=n,explode=[0,0,.10,0])#agar koye part chart se alag kerna hai to ham exploed ka use karange 0-1 tak\n",
    "#NOTE:- input list me hoga or jetne data hai utne lement list me hine chaye nahi to erroe ayega or agar hame koye part alag nahi kerna to  ham vaha 0 likheange list me\n",
    "\n",
    "#plt.pie(class_student,labels=n,colors=[\"r\",\"g\",\"b\",\"black\"])#parts ko colordene ke liye perticulkar part ke hesab se list me color dalne hai\n",
    "\n",
    "#plt.pie(class_student,labels=n,autopct=\"%.1f\")#percantage dekhane ke liye % lagana hai \n",
    "#or decimal ke bad ketne 0 dekhane hai us ke liye \".\" lagaker jinte 0 dikhane hai utna nu. likh do\n",
    "#plt.pie(class_student,labels=n,autopct=\"%.1f\",pctdistance=0.3)#percantage walle text ko left right shift kerne ke liye\n",
    "\n",
    "#plt.pie(class_student,labels=n,shadow=True)#agar hame chart ka shadow dekhna hai to\n",
    "#plt.pie(class_student,labels=n,radius=1)#pie chart ka size change kerne ke liye\n",
    "#plt.pie(class_student,labels=n,startangle=10)#jes angel se hame start kerna hai\n",
    "#plt.pie(class_student,labels=n,textprops={\"fontsize\":12,\"color\":\"black\",\"alpha\":0.5})#to change properties of labels\n",
    "#plt.pie(class_student,labels=n,labeldistance=1.4)#label ke distance ko upper neche kerna ke liye\n",
    "#plt.pie(class_student,labels=n,counterclock=False)#agar hame data clock wise display nahi kerna\n",
    "#plt.pie(class_student,labels=n,wedgeprops={\"linewidth\":4,\"edgecolor\":\"k\"})#chart ke properties ke sath khalne ke liye\n",
    "#plt.pie(class_student,labels=n,center=(2,3))#agar hame chart x,y cordinates ke hisb se display kervana ho to\n",
    "#plt.pie(class_student,labels=n,frame=True)#agar ham bg me graph dekha na hai to\n",
    "#plt.pie(class_student,labels=n,rotatelabels=True)#agar hame labels ke text ko rotate kerna hai to"
   ]
  },
  {
   "cell_type": "code",
   "execution_count": 36,
   "id": "f8c9c9b1",
   "metadata": {},
   "outputs": [
    {
     "data": {
      "text/plain": [
       "<BarContainer object of 6 artists>"
      ]
     },
     "execution_count": 36,
     "metadata": {},
     "output_type": "execute_result"
    },
    {
     "data": {
      "image/png": "[encoded data removed]",
      "text/plain": [
       "<Figure size 432x288 with 5 Axes>"
      ]
     },
     "metadata": {
      "needs_background": "light"
     },
     "output_type": "display_data"
    }
   ],
   "source": [
    "#       SUB PLOT es ke madaf se ham matplotlib ke graph me kaye chart laga sakte hai\n",
    "plt.subplot(3,2,1)#(no. of row,no. of column,index value)\n",
    "plt.plot(x,y,\"b*-.\")\n",
    "\n",
    "plt.subplot(3,2,2)\n",
    "plt.hist([x,y],color = [\"b\",\"y\"])\n",
    "\n",
    "plt.subplot(3,2,3)\n",
    "plt.bar(x,y,edgecolor=\"blue\",linewidth=2,linestyle=\"-.\")\n",
    "\n",
    "plt.subplot(3,2,4)\n",
    "plt.pie(class_student,labels=n,rotatelabels=True)\n",
    "#NOTE:-hame har bar alag alag graph me show kerne ke liye alg se line likhne pade ge \n",
    "#or hame perticular column me chart dekhane ke liye hame uske neche he code likhna padega \n",
    "\n",
    "#plt.subplot(3,2,5,projection=\"polar\")#agar hame radar ke form me graph ko lagana hai to \n",
    "plt.subplot(3,2,5,projection=\"polar\",facecolor=\"k\") #facecolor to change color of radar graph\n",
    "\n",
    "plt.bar(x,y,edgecolor=\"blue\",linewidth=2,linestyle=\"-.\")\n",
    "\n",
    "\n",
    "#agar hame koye image save kerne ho to\n",
    "#plt.savefig(\"fig\",dpi=100)#(file mname , dpi)  dpi = ek thre se resulution\n"
   ]
  },
  {
   "cell_type": "code",
   "execution_count": 30,
   "id": "ae0b87cd",
   "metadata": {},
   "outputs": [
    {
     "data": {
      "text/plain": [
       "<Figure size 432x288 with 0 Axes>"
      ]
     },
     "metadata": {},
     "output_type": "display_data"
    }
   ],
   "source": []
  },
  {
   "cell_type": "code",
   "execution_count": null,
   "id": "1be43ab6",
   "metadata": {},
   "outputs": [],
   "source": []
  }
 ],
 "metadata": {
  "kernelspec": {
   "display_name": "Python 3 (ipykernel)",
   "language": "python",
   "name": "python3"
  },
  "language_info": {
   "codemirror_mode": {
    "name": "ipython",
    "version": 3
   },
   "file_extension": ".py",
   "mimetype": "text/x-python",
   "name": "python",
   "nbconvert_exporter": "python",
   "pygments_lexer": "ipython3",
   "version": "3.7.1"
  }
 },
 "nbformat": 4,
 "nbformat_minor": 5
}
