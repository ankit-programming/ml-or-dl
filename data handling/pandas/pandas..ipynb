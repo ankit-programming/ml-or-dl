{
 "cells": [
  {
   "cell_type": "code",
   "execution_count": 126,
   "id": "2ed9a401",
   "metadata": {},
   "outputs": [],
   "source": [
    "#not completed understand\n",
    "import pandas as pd\n",
    "import numpy as np\n",
    "from pandas.core.frame import DataFrame"
   ]
  },
  {
   "cell_type": "code",
   "execution_count": 127,
   "id": "fec5ab09",
   "metadata": {},
   "outputs": [],
   "source": [
    "#giving data to convert it into pandas series(1d array of pands)\n",
    "data = [1,2,3,4,5]\n",
    "index = [\"a\",\"b\",\"c\",\"d\",\"e\"]\n",
    "#series me ham data or index(a,b,c) dete hai\n",
    "series = pd.Series(data,index=index)#2nd method to make series\"pd.Series(np.random.rand(5))\"\n",
    "#making sries from dict\n",
    "dic = {\"ankit\":\"coder\",\"deepak\":\"cse\",\"sanjay\":\"enge\",\"sangeeta\":\"house wife\"}\n",
    "dic_series = pd.Series(dic)"
   ]
  },
  {
   "cell_type": "code",
   "execution_count": 128,
   "id": "0c444422",
   "metadata": {},
   "outputs": [],
   "source": [
    "#DataFrame\n",
    "data1 = pd.Series([0.111,0.122,0.133,0.144,0.155])\n",
    "data2 = pd.Series([0.011,0.122,0.233,0.344,0.455])\n",
    "data = (data1,data2)\n",
    "df = pd.DataFrame(data)\n",
    "#if we want to give name to colums\n",
    "df = pd.DataFrame({\"High\":data1,\"Close\":data2},index = [1,2,3,4,5])\n",
    "\n",
    "#onther way to give index and column name\n",
    "#df.index = [1,2,3,4,5]#if we want to change index name\n",
    "#df.columns = list(\"12\")#change column name in one line code if we want oto writte singel character name\n",
    "#or\n",
    "#pd.DataFrame(data,columns=[\"name1\",\"name2\",......])\n",
    "\n",
    "#if have list inside list\n",
    "ld = [[1,2,3],[5,6,7]]\n",
    "ld1 = [[23,34,45],[32,34,45,]]\n",
    "\n",
    "lddic = {\"a\":ld,\"b\":ld1}\n",
    "lddf = pd.DataFrame(lddic)\n",
    "\n",
    "#if data is in dict\n",
    "dict1 = {\"a\":1,\"b\":2,\"c\":3,\"d\":4}#making 2 dict\n",
    "dict2 = {\"e\":5,\"f\":6,\"g\":7,\"h\":8}\n",
    "dict1s = pd.Series(dict1)#converting them into series/1d array\n",
    "dict2s = pd.Series(dict2)\n",
    "dictdata = (dict1s,dict2s)#putting that series in data as using for data\n",
    "dictdf = pd.DataFrame(dictdata)#making data frame/2d array of data \n"
   ]
  },
  {
   "cell_type": "code",
   "execution_count": 129,
   "id": "8ddd7124",
   "metadata": {},
   "outputs": [
    {
     "name": "stdout",
     "output_type": "stream",
     "text": [
      "a       [1, 2, 3]\n",
      "b    [23, 34, 45]\n",
      "Name: 0, dtype: object\n",
      "           a             b\n",
      "0  [1, 2, 3]  [23, 34, 45]\n",
      "1  [5, 6, 7]  [32, 34, 45]\n"
     ]
    }
   ],
   "source": [
    "#Accessing data\n",
    "'''print(lddf)\n",
    "print(lddf.a[1])#to read perticular elemnt of df'''\n",
    "print(lddf.loc[0,:])#to print full perticular row\n",
    "print(lddf.loc[:,:])#to print full df-->basic concept===.loc[row ka nam,column ka nam] same slicing as str\n",
    "#.loc[:,:]-->[row,column]  pure data frame slicing es function se he hote hai\n",
    "#note in this slicing last term will be included loc--location\n",
    "#iloc is also for slicing but mostly used .loc"
   ]
  },
  {
   "cell_type": "code",
   "execution_count": 130,
   "id": "50f8d583",
   "metadata": {
    "collapsed": true
   },
   "outputs": [
    {
     "name": "stdout",
     "output_type": "stream",
     "text": [
      "           a             b\n",
      "0  [1, 2, 3]  [23, 34, 45]\n",
      "1  [5, 6, 7]  [32, 34, 45]\n"
     ]
    },
    {
     "data": {
      "text/plain": [
       "'df.to_csv(\"csv data file.csv\")#if we want to convert this data into Excel form.if you dont want see index writte \"index=Fals\"\\nprint(pd.read_csv(\"csv data file.csv\"))#to read exesting csv file data in python\\nprint(df.head(2))#if you have large data and want to see only limited line from up ward\\nprint(df.tail(2))#if you have large data and want to see only limited line from down ward\\nprint(df.describe())#if you want numeric column count,mean,std,min,25%,50%,75%,max\\nprint(df.index)#to print all index name in dataframe\\nprint(df.to_numpy)#to convert dataframe into numpy array\\nprint(df.sort_index(axis=0,ascending=False))#agar ham index ko ulta kerna chate hai to \"ascending=False or axis=0\" kerdenge agar column ulte kerne hai to \"axis=1\" kerdena hai\\n'"
      ]
     },
     "execution_count": 130,
     "metadata": {},
     "output_type": "execute_result"
    }
   ],
   "source": [
    "#if we want to change value--->giv location then change it\n",
    "print(lddf.replace([23,34,45],4))\n",
    "#lddf[\"c\"]=[4,5,6] #for adding row\n",
    "#lddf.loc[3,:] = [4,5] #for adding column\n",
    "\n",
    "\n",
    "#|||Some functions\n",
    "'''df.to_csv(\"csv data file.csv\")#if we want to convert this data into Excel form.if you dont want see index writte \"index=Fals\"\n",
    "print(pd.read_csv(\"csv data file.csv\"))#to read exesting csv file data in python\n",
    "print(df.head(2))#if you have large data and want to see only limited line from up ward\n",
    "print(df.tail(2))#if you have large data and want to see only limited line from down ward\n",
    "print(df.describe())#if you want numeric column count,mean,std,min,25%,50%,75%,max\n",
    "print(df.index)#to print all index name in dataframe\n",
    "print(df.to_numpy)#to convert dataframe into numpy array\n",
    "print(df.sort_index(axis=0,ascending=False))#agar ham index ko ulta kerna chate hai to \"ascending=False or axis=0\" kerdenge agar column ulte kerne hai to \"axis=1\" kerdena hai\n",
    "'''\n",
    "\n"
   ]
  },
  {
   "cell_type": "code",
   "execution_count": 157,
   "id": "fe183db6",
   "metadata": {},
   "outputs": [
    {
     "data": {
      "text/plain": [
       "'print(df.max())#to see all max in all columns\\nprint(df.min())#to see min value from all columns\\nprint(df.mode())#to print(max accuring values in columns)\\nprint(df.median())#will sort coulmn into incresing order\\nprint(df.mean())#give avg of every column\\nprint(df.count())#to see total no of element in column\\nprint(df.sum())#to add all elements of columns'"
      ]
     },
     "execution_count": 157,
     "metadata": {},
     "output_type": "execute_result"
    }
   ],
   "source": [
    "#some other functions\n",
    "'''print(df.max())#to see all max in all columns\n",
    "print(df.min())#to see min value from all columns\n",
    "print(df.mode())#to print(max accuring values in columns)\n",
    "print(df.median())#will sort coulmn into incresing order\n",
    "print(df.mean())#give avg of every column\n",
    "print(df.count())#to see total no of element in column\n",
    "print(df.sum())#to add all elements of columns'''\n"
   ]
  },
  {
   "cell_type": "code",
   "execution_count": 170,
   "id": "f347096f",
   "metadata": {},
   "outputs": [
    {
     "name": "stdout",
     "output_type": "stream",
     "text": [
      "0.233\n",
      "0.366\n",
      "2\n"
     ]
    },
    {
     "data": {
      "text/html": [
       "<div>\n",
       "<style scoped>\n",
       "    .dataframe tbody tr th:only-of-type {\n",
       "        vertical-align: middle;\n",
       "    }\n",
       "\n",
       "    .dataframe tbody tr th {\n",
       "        vertical-align: top;\n",
       "    }\n",
       "\n",
       "    .dataframe thead th {\n",
       "        text-align: right;\n",
       "    }\n",
       "</style>\n",
       "<table border=\"1\" class=\"dataframe\">\n",
       "  <thead>\n",
       "    <tr style=\"text-align: right;\">\n",
       "      <th></th>\n",
       "      <th>High</th>\n",
       "      <th>Close</th>\n",
       "    </tr>\n",
       "  </thead>\n",
       "  <tbody>\n",
       "    <tr>\n",
       "      <th>1</th>\n",
       "      <td>0.122</td>\n",
       "      <td>0.122</td>\n",
       "    </tr>\n",
       "    <tr>\n",
       "      <th>2</th>\n",
       "      <td>0.133</td>\n",
       "      <td>0.233</td>\n",
       "    </tr>\n",
       "    <tr>\n",
       "      <th>3</th>\n",
       "      <td>0.144</td>\n",
       "      <td>0.344</td>\n",
       "    </tr>\n",
       "    <tr>\n",
       "      <th>4</th>\n",
       "      <td>0.155</td>\n",
       "      <td>0.455</td>\n",
       "    </tr>\n",
       "    <tr>\n",
       "      <th>5</th>\n",
       "      <td>NaN</td>\n",
       "      <td>NaN</td>\n",
       "    </tr>\n",
       "  </tbody>\n",
       "</table>\n",
       "</div>"
      ],
      "text/plain": [
       "    High  Close\n",
       "1  0.122  0.122\n",
       "2  0.133  0.233\n",
       "3  0.144  0.344\n",
       "4  0.155  0.455\n",
       "5    NaN    NaN"
      ]
     },
     "execution_count": 170,
     "metadata": {},
     "output_type": "execute_result"
    }
   ],
   "source": [
    "#applying features on subset\n",
    "#note-phele element ya column slect kero phir usme \".\" laga ker function laga do\n",
    "print(df.loc[2,:].max())\n",
    "print(df.loc[2,:].sum())\n",
    "print(df.loc[2,:].count())\n",
    "#etc\n",
    "df"
   ]
  },
  {
   "cell_type": "code",
   "execution_count": 201,
   "id": "c4cd0fb4",
   "metadata": {},
   "outputs": [
    {
     "name": "stdout",
     "output_type": "stream",
     "text": [
      "   A  B\n",
      "0  A  C\n",
      "1  a  c\n",
      "2  B  D\n",
      "3  b  d\n",
      "   A  B\n",
      "0  A  C\n",
      "2  B  D\n",
      "1  a  c\n",
      "3  b  d\n",
      "Series([], dtype: float64)\n",
      "Series([], dtype: float64)\n"
     ]
    },
    {
     "name": "stderr",
     "output_type": "stream",
     "text": [
      "c:\\python37\\lib\\site-packages\\ipykernel_launcher.py:9: FutureWarning: Dropping of nuisance columns in DataFrame reductions (with 'numeric_only=None') is deprecated; in a future version this will raise TypeError.  Select only valid columns before calling the reduction.\n",
      "  if __name__ == \"__main__\":\n"
     ]
    }
   ],
   "source": [
    "#advance opration on data frame\n",
    "df = pd.DataFrame({\"A\":[\"A\",\"a\",\"B\",\"b\"],\n",
    "                   \"B\":[\"C\",\"c\",\"D\",\"d\"]})\n",
    "print(df)\n",
    "# = df.pivot(columns=\"A\",index=1,values=4)\n",
    "print(df.sort_values(\"A\"))#ye function phele capital letters ko alphabet ke according arange kerde ga phir smal leeter ke according\n",
    "print(df.mad(axis=0))#ye absolute mean deviation calculat kere ga \n",
    "#note:-axis=1 means row----axis=0 meanscolumn\n",
    "print(df.std(axis=0))#it calculat standers daviation"
   ]
  },
  {
   "cell_type": "code",
   "execution_count": 211,
   "id": "a8f1c362",
   "metadata": {
    "scrolled": true
   },
   "outputs": [
    {
     "name": "stdout",
     "output_type": "stream",
     "text": [
      "A    3.0\n",
      "B    6.0\n",
      "dtype: float64\n",
      "     A    B\n",
      "0  1.0  6.0\n",
      "1  2.0  7.0\n",
      "2  3.0  8.0\n",
      "3  4.0  9.0\n",
      "4  5.0  0.0\n"
     ]
    }
   ],
   "source": [
    "#pipe is used in pandas to applyt function on all elements\n",
    "df = pd.DataFrame({\"A\":[1,2,3,4,5],\n",
    "                   \"B\":[6,7,8,9,0]})\n",
    "\n",
    "#print(df.pipe(np.add()))\n",
    "print(df.apply(np.mean))#es function ke madad se jo function ham ne lagaya hai es function me vo har ek element ppe lag jaye ga\n",
    "print(df.applymap(np.mean))"
   ]
  },
  {
   "cell_type": "code",
   "execution_count": null,
   "id": "56e9a518",
   "metadata": {},
   "outputs": [],
   "source": []
  }
 ],
 "metadata": {
  "kernelspec": {
   "display_name": "Python 3 (ipykernel)",
   "language": "python",
   "name": "python3"
  },
  "language_info": {
   "codemirror_mode": {
    "name": "ipython",
    "version": 3
   },
   "file_extension": ".py",
   "mimetype": "text/x-python",
   "name": "python",
   "nbconvert_exporter": "python",
   "pygments_lexer": "ipython3",
   "version": "3.7.1"
  }
 },
 "nbformat": 4,
 "nbformat_minor": 5
}
