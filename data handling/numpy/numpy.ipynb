{
 "cells": [
  {
   "cell_type": "code",
   "execution_count": 164,
   "id": "d5785162",
   "metadata": {},
   "outputs": [],
   "source": [
    "#ek thre se llist se me same thre ke data types ho\n",
    "import numpy as np"
   ]
  },
  {
   "cell_type": "code",
   "execution_count": 165,
   "id": "d15c3e60",
   "metadata": {},
   "outputs": [],
   "source": [
    "#making variabels\n",
    "d1 = [1,2,3,4,5,3]\n",
    "d2 = [6,7,8,9,0,2]\n",
    "d3 = [2,3,4,5,2,1]\n",
    "d4 = [5,2,7,8,1,5]\n",
    "dic = {1:\"A\",2:\"b\",3:\"c\",4:\"d\"}"
   ]
  },
  {
   "cell_type": "code",
   "execution_count": 166,
   "id": "fbf5ace5",
   "metadata": {},
   "outputs": [],
   "source": [
    "#Function for 1d and 2d making array\n",
    "a1 = np.array([d1,d2]) # making simpel 1d array\n",
    "fro = np.fromiter(dic,dtype = np.int64)#agar koye dict ya str ko 1d array me convert kerna ho to\n",
    "\n",
    "arange = np.arange(1,16,1)#making elemnt array (starting,ending value,step value)\n",
    "\n",
    "linespace = np.linspace(1,10,15)#making elemnt array (starting,ending value,jitne value hame chaye)\n",
    "\n",
    "empty_array = np.empty([3,5])#es se ham empty array banate hai take samaye ane per ham us me data fill ker sake\n",
    "\n",
    "zeroes = np.zeros([3,5],dtype=np.int32,order = \"f\")#make array with all element '0'\n",
    "\n",
    "ones = np.ones([3,5])#make array with all element '1'\n",
    "\n",
    "eye = np.eye(5)#to make element '1' at diagonal and '0' at non-diagonal\n",
    "\n",
    "full = np.full([5,5],\"ankit\")#making array with all same elemnt \n",
    "\n",
    "random_ran = np.random.rand(3,5)#make array of element between 0-1 ranondomly\n",
    "\n",
    "random_ranint = np.random.randint(1,100,size=(5,5))#make element with randon no. given as input -->(start value,till value,size of array)"
   ]
  },
  {
   "cell_type": "code",
   "execution_count": 167,
   "id": "2328c5d6",
   "metadata": {},
   "outputs": [],
   "source": [
    "#some basic functions\n",
    "shape = random_ranint.shape# yane ke array ke row or column me ketne element hai-->'.shape' shpe==(row,coulmn)\n",
    "reshape = random_ranint.reshape(5,5)#to modify the the shape of array\n",
    "itemsize = a1.itemsize#size of each element of array"
   ]
  },
  {
   "cell_type": "code",
   "execution_count": 168,
   "id": "ed4181f3",
   "metadata": {},
   "outputs": [
    {
     "name": "stdout",
     "output_type": "stream",
     "text": [
      "7\n",
      "[6 7 8 9 0 2]\n"
     ]
    }
   ],
   "source": [
    "#Accessing arrays\n",
    "na = np.array([d1,d2,d3,d1])#maked new array\n",
    "print(na[1,1])#to accsess perticular elemnt --->na[list no. , element no.]\n",
    "print(na[1])#to print perticular list\n",
    "\n",
    "#replacing of element\n",
    "na[1,1] = 0\n",
    "\n",
    "#slicing\n",
    "#[starting place:ending place:select value] for 1-d\n",
    "#same as string slicing in 2d"
   ]
  },
  {
   "cell_type": "code",
   "execution_count": 169,
   "id": "c6dc69ac",
   "metadata": {},
   "outputs": [],
   "source": [
    "#concatin arrays\n",
    "array1 = np.array([d1,d2])\n",
    "array2 = np.array([d2,d1])\n",
    "hstack = np.hstack((d1,d2))\n",
    "vstack = np.vstack((d1,d2))\n",
    "concate = np.concatenate((array1,array2),axis=0)#to concat column [default]\n",
    "concate1 = np.concatenate((array1,array2),axis=1)#to concat row\n",
    "#print(array1,\"\\n********\\n\",array2)\n",
    "#print(concate1,\"\\n********\\n\",concate)\n",
    "\n",
    "#split\n",
    "hsplit = np.hsplit(na, 1)#agar horizontly array ke tokde kerne ho to\n",
    "vsplit = np.vsplit(na,1)#agar verticaly array ke tukde keren ho to\n",
    "split = np.split(na,[2,5],axis=0)"
   ]
  },
  {
   "cell_type": "code",
   "execution_count": 174,
   "id": "476aac4d",
   "metadata": {},
   "outputs": [
    {
     "name": "stdout",
     "output_type": "stream",
     "text": [
      "[[6 7 8 9 0 2]\n",
      " [1 2 3 4 5 3]]\n",
      "2\n",
      "48\n",
      "3\n",
      "4\n",
      "(array([1], dtype=int64), array([0], dtype=int64))\n"
     ]
    }
   ],
   "source": [
    "#maths on array\n",
    "#1\n",
    "#attributes\n",
    "flat = array1.flat\n",
    "'''for values in flat:\n",
    "    print(values)'''\n",
    "print(array2)\n",
    "print(array2.ndim)#to print no. of dimenssion\n",
    "print(array2.nbytes)#total bytes consumed by all elements\n",
    "print(array2.argmax())#it tell wher max num is present\n",
    "print(array2.argmin())#it tell wher min num is present\n",
    "print(np.where(array2==1))#us jaghe ka nam batata hai jaha hamare condition satatisfy hoti hai"
   ]
  },
  {
   "cell_type": "code",
   "execution_count": null,
   "id": "eb4b0095",
   "metadata": {},
   "outputs": [],
   "source": []
  }
 ],
 "metadata": {
  "kernelspec": {
   "display_name": "Python 3 (ipykernel)",
   "language": "python",
   "name": "python3"
  },
  "language_info": {
   "codemirror_mode": {
    "name": "ipython",
    "version": 3
   },
   "file_extension": ".py",
   "mimetype": "text/x-python",
   "name": "python",
   "nbconvert_exporter": "python",
   "pygments_lexer": "ipython3",
   "version": "3.7.1"
  }
 },
 "nbformat": 4,
 "nbformat_minor": 5
}
