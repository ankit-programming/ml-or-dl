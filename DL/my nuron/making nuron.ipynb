{
 "cells": [
  {
   "cell_type": "code",
   "execution_count": 35,
   "id": "71f23bf1",
   "metadata": {},
   "outputs": [],
   "source": [
    "import numpy as np"
   ]
  },
  {
   "cell_type": "code",
   "execution_count": 43,
   "id": "6fcddc69",
   "metadata": {},
   "outputs": [],
   "source": [
    "np.random.seed(0)\n",
    "X = [[1,2,3,4],\n",
    "    [6,7,8,9],\n",
    "    [10,11,12,13]]"
   ]
  },
  {
   "cell_type": "code",
   "execution_count": 44,
   "id": "4c633041",
   "metadata": {},
   "outputs": [],
   "source": [
    "class Layer_Dense:\n",
    "    def __init__(self,n_input,n_nurons):#yane ke ek thrase LAyer_Dense ye 2 input le raha hai\n",
    "        self.weight = np.random.randn(n_input,n_nurons)#randomly weight banade ga given (_,_) shape me\n",
    "        self.biases = np.zeros((1,n_nurons))\n",
    "    def forward (self,input):\n",
    "        self.output = np.dot(input,self.weight) + self.biases\n",
    "        # es ham input phele es liye le rahe hai take hame transpose mna kerna pade\n",
    "        \n",
    "        "
   ]
  },
  {
   "cell_type": "code",
   "execution_count": 45,
   "id": "486db00a",
   "metadata": {},
   "outputs": [],
   "source": [
    "#making matrix for nuron\n",
    "layer1 = Layer_Dense(4,5) # Layer_Dense(no of feature of input , no. of nuron we want in output)\n",
    "layer2 = Layer_Dense(5,3) #(_ , _ ) en me phele vo number dalana hai ke pechle nuron ketne the \n"
   ]
  },
  {
   "cell_type": "markdown",
   "id": "c8d7211d",
   "metadata": {},
   "source": [
    "NOTE- numpy me matrix calulation kerne ke liye shape kuch es there hone chaye\n",
    "\n",
    "(A,B)*(B,A) yane dusre matrix me phele 1st matrix ka dusra no. likhna hai(B)"
   ]
  },
  {
   "cell_type": "code",
   "execution_count": 51,
   "id": "b7ef6bd9",
   "metadata": {},
   "outputs": [
    {
     "name": "stdout",
     "output_type": "stream",
     "text": [
      "[[ -8.47751481  28.68802335 -12.57109664]\n",
      " [-29.64612548  63.8027587  -26.14864612]\n",
      " [-46.58101401  91.89454697 -37.01068571]]\n"
     ]
    },
    {
     "data": {
      "text/plain": [
       "array([[ 1.57632461, 12.63947086,  2.13850369,  3.65175135,  0.60396174],\n",
       "       [ 7.89878643, 34.13246189,  9.05480487, 16.51383668,  9.94358166],\n",
       "       [12.95675589, 51.32685471, 14.58784582, 26.80350494, 17.4152776 ]])"
      ]
     },
     "execution_count": 51,
     "metadata": {},
     "output_type": "execute_result"
    }
   ],
   "source": [
    "#doing maths with data we date in form of matrix\n",
    "#layer1.forward(X)\n",
    "layer2.forward(layer1.output)\n",
    "\n",
    "print(layer2.output)\n",
    "layer1.output"
   ]
  },
  {
   "cell_type": "code",
   "execution_count": null,
   "id": "24702e59",
   "metadata": {},
   "outputs": [],
   "source": []
  }
 ],
 "metadata": {
  "kernelspec": {
   "display_name": "Python 3 (ipykernel)",
   "language": "python",
   "name": "python3"
  },
  "language_info": {
   "codemirror_mode": {
    "name": "ipython",
    "version": 3
   },
   "file_extension": ".py",
   "mimetype": "text/x-python",
   "name": "python",
   "nbconvert_exporter": "python",
   "pygments_lexer": "ipython3",
   "version": "3.7.1"
  }
 },
 "nbformat": 4,
 "nbformat_minor": 5
}
